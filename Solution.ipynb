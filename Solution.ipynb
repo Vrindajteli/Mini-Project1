{
 "cells": [
  {
   "cell_type": "code",
   "execution_count": 2,
   "id": "466fa0f4",
   "metadata": {},
   "outputs": [],
   "source": [
    "import pandas as pd"
   ]
  },
  {
   "cell_type": "code",
   "execution_count": 3,
   "id": "427d0c52",
   "metadata": {},
   "outputs": [],
   "source": [
    "import numpy as np"
   ]
  },
  {
   "cell_type": "code",
   "execution_count": 4,
   "id": "0dd231d4",
   "metadata": {},
   "outputs": [],
   "source": [
    "import matplotlib as mp"
   ]
  },
  {
   "cell_type": "code",
   "execution_count": 5,
   "id": "8f1a3785",
   "metadata": {},
   "outputs": [
    {
     "name": "stdout",
     "output_type": "stream",
     "text": [
      "              Movie Name Release Year  Duration  IMDB Rating  Metascore  \\\n",
      "1995  The Young Victoria         2009       105          7.2       64.0   \n",
      "1996         Tooth Fairy       I 2010       101          5.0       36.0   \n",
      "1997      The Informant!         2009       108          6.5       66.0   \n",
      "1998     Youth in Revolt         2009        90          6.4       63.0   \n",
      "1999          Quarantine         2008        89          6.0       53.0   \n",
      "\n",
      "       Votes                      Genre           Director  \\\n",
      "1995  66,235  Biography, Drama, History   Jean-Marc Vallée   \n",
      "1996  49,527    Comedy, Family, Fantasy    Michael Lembeck   \n",
      "1997  67,318   Biography, Comedy, Crime  Steven Soderbergh   \n",
      "1998  75,956     Comedy, Drama, Romance      Miguel Arteta   \n",
      "1999  77,075   Horror, Sci-Fi, Thriller  John Erick Dowdle   \n",
      "\n",
      "                    Cast    Gross  \n",
      "1995         Emily Blunt  $11.00M  \n",
      "1996      Dwayne Johnson  $60.02M  \n",
      "1997          Matt Damon  $33.31M  \n",
      "1998        Michael Cera  $15.28M  \n",
      "1999  Jennifer Carpenter  $31.69M  \n"
     ]
    }
   ],
   "source": [
    "#reading the file\n",
    "data=pd.read_csv('C:/Users/hp/Desktop/DS/datasets/imdb_top_2000_movies.csv')\n",
    "print(data.tail())"
   ]
  },
  {
   "cell_type": "code",
   "execution_count": 6,
   "id": "0487e3fd",
   "metadata": {},
   "outputs": [
    {
     "name": "stdout",
     "output_type": "stream",
     "text": [
      "Top-Rated Movies:\n",
      "                                             Movie Name  IMDB Rating\n",
      "506                            The Shawshank Redemption          9.3\n",
      "0                                         The Godfather          9.2\n",
      "1019      The Lord of the Rings: The Return of the King          9.0\n",
      "1                                 The Godfather Part II          9.0\n",
      "513                                    Schindler's List          9.0\n",
      "36                                         12 Angry Men          9.0\n",
      "1508                                    The Dark Knight          9.0\n",
      "1018  The Lord of the Rings: The Fellowship of the Ring          8.9\n",
      "580                                        Pulp Fiction          8.9\n",
      "15                      Il buono, il brutto, il cattivo          8.8\n"
     ]
    }
   ],
   "source": [
    "#Top 10 most rated movies by IMDB\n",
    "\n",
    "# Sort the movies by descending IMDb rating and select the top ones\n",
    "top_rated_movies = data.sort_values(by='IMDB Rating', ascending=False).head(10)\n",
    "\n",
    "# Print the top-rated movies\n",
    "print(\"Top-Rated Movies:\")\n",
    "print(top_rated_movies[['Movie Name', 'IMDB Rating']])\n"
   ]
  },
  {
   "cell_type": "code",
   "execution_count": 7,
   "id": "86af0164",
   "metadata": {},
   "outputs": [
    {
     "data": {
      "image/png": "[encoded data removed]",
      "text/plain": [
       "<Figure size 640x480 with 1 Axes>"
      ]
     },
     "metadata": {},
     "output_type": "display_data"
    }
   ],
   "source": [
    "#Visualizing the trend of rating through matplotlib\n",
    "from matplotlib import pyplot as plt\n",
    "\n",
    "# Plot a histogram of IMDb ratings to visualize the distribution\n",
    "plt.hist(data['IMDB Rating'], bins=20,edgecolor='black')\n",
    "plt.xlabel('IMDB Rating')\n",
    "plt.ylabel('Frequency')\n",
    "plt.title('Distribution of IMDb Ratings')\n",
    "plt.show()\n"
   ]
  },
  {
   "cell_type": "code",
   "execution_count": 11,
   "id": "f985e8ea",
   "metadata": {},
   "outputs": [
    {
     "name": "stdout",
     "output_type": "stream",
     "text": [
      "Least-Rated Movies:\n",
      "                         Movie Name  IMDB Rating\n",
      "1737       Emret Komutanim: Sah Mat          1.5\n",
      "1736  Dünyayi Kurtaran Adam'in Oglu          1.5\n",
      "1492     Keloglan Karaprens'e Karsi          1.6\n",
      "1931     Birdemic: Shock and Terror          1.7\n",
      "1738                 Çilgin Dersane          1.9\n",
      "1727                     Epic Movie          2.4\n",
      "1199                        Glitter          2.4\n",
      "1452              Alone in the Dark          2.4\n",
      "1977           Dragonball Evolution          2.5\n",
      "978               Battlefield Earth          2.5\n"
     ]
    }
   ],
   "source": [
    "#Top 10 least rated movies by IMDB\n",
    "# Sort the movies by descending IMDb rating and select the top ones\n",
    "top_rated_movies = data.sort_values(by='IMDB Rating', ascending=True).head(10)\n",
    "\n",
    "# Print the top-rated movies\n",
    "print(\"Least-Rated Movies:\")\n",
    "print(top_rated_movies[['Movie Name', 'IMDB Rating']])"
   ]
  },
  {
   "cell_type": "code",
   "execution_count": 10,
   "id": "467805aa",
   "metadata": {},
   "outputs": [
    {
     "name": "stdout",
     "output_type": "stream",
     "text": [
      "Most Popular Genres by Average IMDb Rating:\n",
      "Genre\n",
      "Adventure, Western               8.8\n",
      "Animation, Drama, War            8.5\n",
      "Documentary, Biography, Crime    8.5\n",
      "Drama, Mystery, War              8.4\n",
      "Drama, Film-Noir                 8.4\n",
      "Name: IMDB Rating, dtype: float64\n"
     ]
    }
   ],
   "source": [
    "#Most popular genres\n",
    "\n",
    "# Group the data by genre and calculate the average IMDb rating for each genre\n",
    "genre_avg_ratings = data.groupby('Genre')['IMDB Rating'].mean()\n",
    "\n",
    "# Sort genres by average rating to find the most popular genres\n",
    "most_popular_genres = genre_avg_ratings.sort_values(ascending=False).head(5)\n",
    "\n",
    "print(\"Most Popular Genres by Average IMDb Rating:\")\n",
    "print(most_popular_genres)"
   ]
  },
  {
   "cell_type": "code",
   "execution_count": 15,
   "id": "ed64f099",
   "metadata": {},
   "outputs": [
    {
     "name": "stdout",
     "output_type": "stream",
     "text": [
      "Top 5 Movies by Runtime:\n",
      "                            Movie Name  Duration\n",
      "552                         Gettysburg       271\n",
      "656                             Hamlet       242\n",
      "129                 Gone with the Wind       238\n",
      "377        Once Upon a Time in America       229\n",
      "921  Lagaan: Once Upon a Time in India       224\n"
     ]
    }
   ],
   "source": [
    "#Top 5 movies according to run time\n",
    "\n",
    "# Sort the dataset based on 'Runtime' in descending order\n",
    "top_runtime_movies = data.sort_values(by='Duration', ascending=False).head(5)\n",
    "\n",
    "print(\"Top 5 Movies by Runtime:\")\n",
    "print(top_runtime_movies[['Movie Name', 'Duration']])"
   ]
  },
  {
   "cell_type": "code",
   "execution_count": 25,
   "id": "eb5b2934",
   "metadata": {},
   "outputs": [
    {
     "name": "stdout",
     "output_type": "stream",
     "text": [
      "Top Grossing Movies:\n",
      "              Movie Name Release Year    Gross\n",
      "676             Hercules         1997  $99.05M\n",
      "1962          Date Night         2010  $98.71M\n",
      "451     The Color Purple         1985  $98.47M\n",
      "1592  Meet the Robinsons         2007  $97.82M\n",
      "1782             Yes Man         2008  $97.69M\n",
      "1771      Public Enemies         2009  $97.10M\n",
      "513     Schindler's List         1993  $96.90M\n",
      "838       Legally Blonde         2001  $96.52M\n",
      "911           The Others         2001  $96.52M\n",
      "1148          Panic Room         2002  $96.40M\n"
     ]
    }
   ],
   "source": [
    "#Top 5 movies according to gross revenue\n",
    "\n",
    "# Sort the dataset based on 'Gross' in descending order\n",
    "top_grossing_movies = data.sort_values(by='Gross', ascending=False).head(10)\n",
    "\n",
    "print(\"Top Grossing Movies:\")\n",
    "print(top_grossing_movies[['Movie Name','Release Year','Gross']])\n"
   ]
  },
  {
   "cell_type": "code",
   "execution_count": 35,
   "id": "a8cad2de",
   "metadata": {},
   "outputs": [
    {
     "name": "stdout",
     "output_type": "stream",
     "text": [
      "Duration\n",
      "50     7.70\n",
      "60     7.20\n",
      "64     7.80\n",
      "68     8.20\n",
      "69     7.45\n",
      "       ... \n",
      "224    8.10\n",
      "229    8.30\n",
      "238    8.20\n",
      "242    7.70\n",
      "271    7.60\n",
      "Name: IMDB Rating, Length: 131, dtype: float64\n"
     ]
    }
   ],
   "source": [
    "#Calculate average IMDB rating for different durations\n",
    "\n",
    "duration_avg_rating = data.groupby('Duration')['IMDB Rating'].mean()\n",
    "\n",
    "print(duration_avg_rating)"
   ]
  },
  {
   "cell_type": "code",
   "execution_count": 37,
   "id": "5465ec64",
   "metadata": {},
   "outputs": [
    {
     "name": "stdout",
     "output_type": "stream",
     "text": [
      "Average Metascore Ratings by Genre:\n",
      "Genre\n",
      "Action, Adventure               66.000000\n",
      "Action, Adventure, Biography    47.000000\n",
      "Action, Adventure, Comedy       53.108696\n",
      "Action, Adventure, Crime        41.428571\n",
      "Action, Adventure, Drama        67.030303\n",
      "                                  ...    \n",
      "Mystery, Sci-Fi, Thriller       75.000000\n",
      "Mystery, Thriller               61.666667\n",
      "Sci-Fi, Thriller                54.500000\n",
      "Thriller                        71.000000\n",
      "Western                         75.500000\n",
      "Name: Metascore, Length: 264, dtype: float64\n"
     ]
    }
   ],
   "source": [
    "#Calculate the average Metascore rating for each genre\n",
    "genre_avg_metascore = data.groupby('Genre')['Metascore'].mean()\n",
    "\n",
    "print(\"Average Metascore Ratings by Genre:\")\n",
    "print(genre_avg_metascore)"
   ]
  },
  {
   "cell_type": "code",
   "execution_count": 39,
   "id": "637dfeb7",
   "metadata": {},
   "outputs": [
    {
     "name": "stdout",
     "output_type": "stream",
     "text": [
      "Number of Actors in Top 5 Movies by IMDb Rating:\n",
      "                                         Movie Name  Number of Actors\n",
      "506                        The Shawshank Redemption                 1\n",
      "0                                     The Godfather                 1\n",
      "1019  The Lord of the Rings: The Return of the King                 1\n",
      "1                             The Godfather Part II                 1\n",
      "513                                Schindler's List                 1\n"
     ]
    }
   ],
   "source": [
    "#To find the number of actors in the top 5 movies based on IMDb ratings\n",
    "top_movies = data.sort_values(by='IMDB Rating', ascending=False).head(5)\n",
    "\n",
    "# Split the 'Cast' column by comma to get a list of actors for each movie\n",
    "top_movies['Number of Actors'] = top_movies['Cast'].str.split(',').apply(len)\n",
    "\n",
    "print(\"Number of Actors in Top 5 Movies by IMDb Rating:\")\n",
    "print(top_movies[['Movie Name', 'Number of Actors']])"
   ]
  },
  {
   "cell_type": "code",
   "execution_count": null,
   "id": "7a40046a",
   "metadata": {},
   "outputs": [],
   "source": []
  }
 ],
 "metadata": {
  "kernelspec": {
   "display_name": "Python 3 (ipykernel)",
   "language": "python",
   "name": "python3"
  },
  "language_info": {
   "codemirror_mode": {
    "name": "ipython",
    "version": 3
   },
   "file_extension": ".py",
   "mimetype": "text/x-python",
   "name": "python",
   "nbconvert_exporter": "python",
   "pygments_lexer": "ipython3",
   "version": "3.10.9"
  }
 },
 "nbformat": 4,
 "nbformat_minor": 5
}
