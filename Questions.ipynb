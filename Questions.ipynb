{
 "cells": [
  {
   "cell_type": "markdown",
   "id": "6dc07dc6",
   "metadata": {},
   "source": [
    "IMDB ratings dataset based project\n",
    "-> It aims to answer the following questions:\n",
    "1] Top 10 most rated movies by IMDB\n",
    "2] Visualizing the trend of rating through matplotlib\n",
    "3] Top 10 least rated movies by IMDB\n",
    "4] Most popular genres\n",
    "5] Top 5 movies according to run time\n",
    "6] Top 5 movies according to gross revenue\n",
    "7] Top 10 Directors by Number of Movies\n",
    "8] Calculate average IMDB rating for different durations\n",
    "9] Calculate the average Metascore rating for each genre\n",
    "10] To find the number of actors in the top 5 movies based on IMDb ratings"
   ]
  }
 ],
 "metadata": {
  "kernelspec": {
   "display_name": "Python 3 (ipykernel)",
   "language": "python",
   "name": "python3"
  },
  "language_info": {
   "codemirror_mode": {
    "name": "ipython",
    "version": 3
   },
   "file_extension": ".py",
   "mimetype": "text/x-python",
   "name": "python",
   "nbconvert_exporter": "python",
   "pygments_lexer": "ipython3",
   "version": "3.11.7"
  }
 },
 "nbformat": 4,
 "nbformat_minor": 5
}
